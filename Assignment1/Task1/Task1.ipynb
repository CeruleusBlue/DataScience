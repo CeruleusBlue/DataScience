{
 "cells": [
  {
   "cell_type": "markdown",
   "metadata": {},
   "source": [
    "<p>\n",
    "    The cell below:\n",
    "    <ul>\n",
    "        <li>Imports the libraries required for data preprocesssing</li>\n",
    "        <li>Loads the data into a dataframe</li>\n",
    "    </ul>\n",
    "</p>"
   ]
  },
  {
   "cell_type": "code",
   "execution_count": 1,
   "metadata": {},
   "outputs": [],
   "source": [
    "import pandas as pd\n",
    "import matplotlib.pyplot as plt\n",
    "import numpy as np\n",
    "\n",
    "df = pd.read_csv('Task1/train.csv')\n",
    "el = pd.read_csv('Task1/unique_m.csv')\n"
   ]
  },
  {
   "cell_type": "markdown",
   "metadata": {},
   "source": [
    "<p>\n",
    "    The cell below plots the features of the dataframe as a scatter diagram in a 4x4 grid and saves them png files.\n",
    "    <br><em>Note: The plot doesn't include the elements of the material, as it is a sparse matrix and no meaningful conclusions can drawn from their scatter diagrams.</em>\n",
    "</p>"
   ]
  },
  {
   "cell_type": "code",
   "execution_count": 2,
   "metadata": {},
   "outputs": [],
   "source": [
    "y = df['critical_temp']\n",
    "img_c = 1\n",
    "for i in range(0,len(df.columns),16):\n",
    "    plotmat,ax = plt.subplots(4,4)\n",
    "    plotmat.set_size_inches(w=24,h=13.5)\n",
    "    c, d = 0,-1\n",
    "    jrange = range(i, len(df.columns)) if (i+16)>=len(df.columns) else range(i, i+16)\n",
    "    for j in jrange:\n",
    "        x = df[df.columns[j]]\n",
    "        if(j%4==0): d=d+1\n",
    "        ax_curr =  ax[c, d]\n",
    "        ax_curr.set_title(df.columns[j])\n",
    "        ax_curr.plot(x,y,'o')\n",
    "        c = c+1\n",
    "        if(c%4==0):c=0\n",
    "        del ax_curr, x\n",
    "    plotmat.savefig(fname=(\"Task1/plots/scatter_\"+str(img_c)+\".png\"),format=\"png\",bbox_inches='tight')\n",
    "    img_c=img_c+1\n",
    "    plt.close(plotmat)\n",
    "    del c,d, plotmat, ax, jrange, j\n",
    "del y, img_c, i\n"
   ]
  },
  {
   "cell_type": "markdown",
   "metadata": {},
   "source": [
    "<p>\n",
    "    The cell below:\n",
    "    <ul>\n",
    "        <li>Imports the sklearn library</li>\n",
    "        <li>Scales the features to make it easier for regression models to predict the critical temperature as unscaled data might affect the accuracy of the models.</li>\n",
    "    </ul>\n",
    "</p>"
   ]
  },
  {
   "cell_type": "code",
   "execution_count": 3,
   "metadata": {
    "notebookRunGroups": {
     "groupValue": ""
    }
   },
   "outputs": [],
   "source": [
    "import sklearn as sk\n",
    "from sklearn.model_selection import *\n",
    "\n",
    "raw=df\n",
    "scaler= sk.preprocessing.StandardScaler()\n",
    "scaler.fit_transform(raw.drop(columns='critical_temp'))\n",
    "df = pd.DataFrame(scaler.transform(raw.drop(columns='critical_temp')), columns=scaler.feature_names_in_)\n",
    "df = df.join(raw['critical_temp'])\n",
    "\n",
    "del scaler\n"
   ]
  },
  {
   "cell_type": "markdown",
   "metadata": {},
   "source": [
    "<p>\n",
    "    The cell below:\n",
    "    <ul>\n",
    "        <li>Imports three sklearn models, LinearRegression, MLPRegressor and SVR.</li>\n",
    "        <li>Linear Regression is a simple form of machine learning and can provide insight on the data with very little complexity.</li>\n",
    "        <li>Perceptrons and Vectors are two popular machine learning models and usually have a higher accuracy rate than Linear Regression</li>\n",
    "        <li>Cross-validates each model and returns the performance data</li>\n",
    "        <li>The scoring method for each model is the negative rmse.</li>\n",
    "        <li>The data used to train the models in this dataset includes the elemental composition of the superconductors</li>\n",
    "    </ul>\n",
    "</p>"
   ]
  },
  {
   "cell_type": "code",
   "execution_count": 4,
   "metadata": {},
   "outputs": [
    {
     "data": {
      "text/plain": [
       "{'linear': {'fit_time': array([0.12003613, 0.1280036 , 0.10899305, 0.10699773, 0.11600399]),\n",
       "  'score_time': array([0.00796247, 0.00799775, 0.00400162, 0.00499988, 0.00699782]),\n",
       "  'test_score': array([-22.21040084, -38.66385678, -18.45108094, -26.12685429,\n",
       "         -19.39930081])},\n",
       " 'mlp': {'fit_time': array([70.24267817, 78.10168839, 70.16589141, 60.68983412, 59.38645649]),\n",
       "  'score_time': array([0.01200175, 0.01199985, 0.01000428, 0.01799846, 0.01400256]),\n",
       "  'test_score': array([-18.59710192, -46.5772667 , -32.52138018, -54.25534495,\n",
       "         -32.82162623])},\n",
       " 'svr': {'fit_time': array([45.61604357, 45.50501323, 44.28600526, 43.0784719 , 42.28161836]),\n",
       "  'score_time': array([15.24100018, 15.35997033, 16.10524511, 15.17158699, 15.23725533]),\n",
       "  'test_score': array([-22.60445818, -22.20926211, -12.90080624,  -6.09489383,\n",
       "         -13.53382878])}}"
      ]
     },
     "execution_count": 4,
     "metadata": {},
     "output_type": "execute_result"
    }
   ],
   "source": [
    "from sklearn.linear_model import LinearRegression\n",
    "from sklearn.neural_network import MLPRegressor\n",
    "from sklearn.svm import SVR\n",
    "\n",
    "df = pd.merge(left=df, right=el.drop(columns=['critical_temp','material']), left_index=True, right_index=True)\n",
    "\n",
    "models = {\n",
    "    'linear':LinearRegression(),\n",
    "    'mlp':MLPRegressor(max_iter=1000),\n",
    "    'svr':SVR(),\n",
    "}\n",
    "\n",
    "modelsCVData=dict()\n",
    "for x in models:\n",
    "    data = cross_validate(\n",
    "        models[x], \n",
    "        df.drop(columns='critical_temp'),\n",
    "        df['critical_temp'],\n",
    "        scoring='neg_root_mean_squared_error'\n",
    "    )\n",
    "    modelsCVData.update({x:data.copy()})\n",
    "    del data\n",
    "    \n",
    "modelsCVData"
   ]
  },
  {
   "cell_type": "markdown",
   "metadata": {},
   "source": [
    "<div style=\"color:rgb(47, 173, 53)\">\n",
    "    <p>\n",
    "        The ouput above shows that the linear model has the fastest fit time with an approximate mean fit time of 0.1 second, followed by the svr model with 45 seconds and mlp model with 65 seconds.\n",
    "    </p>\n",
    "    <p>\n",
    "        The scoring time is ranked differently to the fit time with the linear model being the fastest with 0.007 second, mlp with 0.01 second and svr with 15 seconds.\n",
    "    </p>\n",
    "</div>"
   ]
  },
  {
   "cell_type": "markdown",
   "metadata": {},
   "source": [
    "The cell below calculates the mean score of the cross-validated data in the above cell. The mean score helps us to identify the best models."
   ]
  },
  {
   "cell_type": "code",
   "execution_count": 8,
   "metadata": {
    "notebookRunGroups": {
     "groupValue": ""
    }
   },
   "outputs": [
    {
     "data": {
      "text/plain": [
       "{'linear': -24.97029873372854,\n",
       " 'mlp': -36.954543994736646,\n",
       " 'svr': -15.468649828870536}"
      ]
     },
     "execution_count": 8,
     "metadata": {},
     "output_type": "execute_result"
    }
   ],
   "source": [
    "modelsCVDataMeanScore = dict()\n",
    "for x in modelsCVData:\n",
    "    s,c = sum(modelsCVData[x]['test_score']),len(modelsCVData[x]['test_score'])\n",
    "    modelsCVDataMeanScore.update({x:(s/c)})\n",
    "    del s,c\n",
    "del x\n",
    "modelsCVDataMeanScore"
   ]
  },
  {
   "cell_type": "markdown",
   "metadata": {},
   "source": [
    "<p style=\"color:rgb(47, 173, 53)\">\n",
    "    The output shows that svr is the best model by a significant margin.\n",
    "</p>"
   ]
  },
  {
   "cell_type": "markdown",
   "metadata": {},
   "source": [
    "<p>\n",
    "    The cell below splits the data into training and test data with a ratio of 2:1 and then fits the best model(svr) with the train data and returns the score for the test data\n",
    "</p>"
   ]
  },
  {
   "cell_type": "code",
   "execution_count": 15,
   "metadata": {},
   "outputs": [
    {
     "data": {
      "text/plain": [
       "0.7750088693568424"
      ]
     },
     "execution_count": 15,
     "metadata": {},
     "output_type": "execute_result"
    }
   ],
   "source": [
    "train_x,test_x,train_y,test_y=train_test_split(df.drop(columns='critical_temp'),df['critical_temp'], test_size=(1/3))\n",
    "models['svr'].fit(train_x, train_y)\n",
    "models['svr'].score(test_x, test_y)"
   ]
  },
  {
   "cell_type": "markdown",
   "metadata": {},
   "source": [
    "<p style=\"color:rgb(47, 173, 53)\">\n",
    "    The output shows that the accuracy of the model is approximately 77.5% .\n",
    "</p>"
   ]
  },
  {
   "cell_type": "markdown",
   "metadata": {},
   "source": [
    "<p style=\"color:rgb(252, 85, 63)\"> \n",
    "    The cell below performs the same steps as the previous cell which performs cross-validation with the difference being that the dataset for cross-validation doesn't include the elemental composition of the superconductors.\n",
    "</p>"
   ]
  },
  {
   "cell_type": "code",
   "execution_count": 21,
   "metadata": {},
   "outputs": [
    {
     "data": {
      "text/plain": [
       "{'linear': {'fit_time': array([0.04498529, 0.05800056, 0.05600214, 0.04200125, 0.04600143]),\n",
       "  'score_time': array([0.00400162, 0.0030005 , 0.00299978, 0.00299859, 0.00299883]),\n",
       "  'test_score': array([-23.40631078, -22.47723626, -16.982837  , -13.40407585,\n",
       "         -16.45510657])},\n",
       " 'mlp': {'fit_time': array([35.70056796, 43.3179996 , 49.71924686, 27.45067072, 39.91627717]),\n",
       "  'score_time': array([0.00699878, 0.00499892, 0.00799966, 0.00799966, 0.0049994 ]),\n",
       "  'test_score': array([-18.76551813, -18.91906919, -12.15287648,  -7.90920505,\n",
       "         -19.05000037])},\n",
       " 'svr': {'fit_time': array([27.39599633, 25.77498174, 24.80275345, 24.76703691, 24.39903069]),\n",
       "  'score_time': array([9.93803358, 8.91700125, 9.02896452, 9.28699899, 8.90696764]),\n",
       "  'test_score': array([-22.78818233, -22.8291182 , -13.52305512,  -5.95266532,\n",
       "         -13.84947947])}}"
      ]
     },
     "execution_count": 21,
     "metadata": {},
     "output_type": "execute_result"
    }
   ],
   "source": [
    "modelsCVDataAlt=dict()\n",
    "df = df.drop(columns=el.drop(columns=['critical_temp','material']).columns)\n",
    "for x in models:\n",
    "    data = cross_validate(\n",
    "        models[x], \n",
    "        df.drop(columns='critical_temp'),\n",
    "        df['critical_temp'],\n",
    "        scoring='neg_root_mean_squared_error'\n",
    "    )\n",
    "    modelsCVDataAlt.update({x:data})\n",
    "    del data\n",
    "modelsCVDataAlt"
   ]
  },
  {
   "cell_type": "markdown",
   "metadata": {},
   "source": [
    "<div style=\"color:rgb(47, 173, 53)\">\n",
    "    <p>\n",
    "        The ouput above shows that the linear model has the fastest fit time with an approximate mean fit time of 0.05 second, followed by the svr model with 25 seconds and mlp model with 35 seconds.\n",
    "    </p>\n",
    "    <p>\n",
    "        The scoring time is ranked differently to the fit time with the linear model being the fastest with 0.003 second, mlp with 0.07 second and svr with 25 seconds.\n",
    "    </p>\n",
    "</div>"
   ]
  },
  {
   "cell_type": "markdown",
   "metadata": {},
   "source": [
    "The cell below calculates the mean score of the cross-validated data in the above cell. The mean score helps us to identify the best models."
   ]
  },
  {
   "cell_type": "code",
   "execution_count": 16,
   "metadata": {},
   "outputs": [
    {
     "data": {
      "text/plain": [
       "{'linear': -18.545113291953776,\n",
       " 'mlp': -15.835865325351062,\n",
       " 'svr': -15.788500087340537}"
      ]
     },
     "execution_count": 16,
     "metadata": {},
     "output_type": "execute_result"
    }
   ],
   "source": [
    "modelsCVDataMeanScoreAlt = dict()\n",
    "for x in modelsCVDataAlt:\n",
    "    s,c = sum(modelsCVDataAlt[x]['test_score']),len(modelsCVDataAlt[x]['test_score'])\n",
    "    modelsCVDataMeanScoreAlt.update({x:(s/c)})\n",
    "    del s,c\n",
    "del x\n",
    "modelsCVDataMeanScoreAlt"
   ]
  },
  {
   "cell_type": "markdown",
   "metadata": {},
   "source": [
    "<p style=\"color:rgb(47, 173, 53)\">\n",
    "    The output shows that mlp and svr both have similar scores and therefore both will be used to check which provides the best accuracy.\n",
    "</p>"
   ]
  },
  {
   "cell_type": "markdown",
   "metadata": {},
   "source": [
    "<p>\n",
    "    The cell below splits the data into training and test data with a ratio of 2:1 and then fits the best model(svr) with the train data and returns the score for the test data\n",
    "</p>"
   ]
  },
  {
   "cell_type": "code",
   "execution_count": 22,
   "metadata": {},
   "outputs": [
    {
     "name": "stdout",
     "output_type": "stream",
     "text": [
      "{'svr': 0.761359716629135, 'mlp': 0.8576887626967645}\n"
     ]
    }
   ],
   "source": [
    "train_x,test_x,train_y,test_y=train_test_split(df.drop(columns='critical_temp'),df['critical_temp'], test_size=(1/3))\n",
    "models['svr'].fit(train_x, train_y)\n",
    "models['mlp'].fit(train_x, train_y)\n",
    "\n",
    "print({'svr': models['svr'].score(test_x, test_y), 'mlp':models['mlp'].score(test_x, test_y)})"
   ]
  },
  {
   "cell_type": "markdown",
   "metadata": {},
   "source": [
    "<p style=\"color:rgb(47, 173, 53)\">\n",
    "    The output shows that mlp has a higher score than svr which itself doesn't differ much from the svr score calculated previously.\n",
    "</p>"
   ]
  },
  {
   "cell_type": "markdown",
   "metadata": {},
   "source": [
    "<table style=\"color:rgb(67, 147, 250)\">\n",
    "    <tr>\n",
    "        <th>Model Name</th>\n",
    "        <th>TestScore(with Elements)</th>\n",
    "        <th>CVScore(with Elements)(-rmse)</th>\n",
    "        <th>TestScore(without Elements)</th>\n",
    "        <th>CVScore(without Elements)(-rmse)</th>\n",
    "    </tr>\n",
    "    <tr>\n",
    "        <td>SVR</td>\n",
    "        <td>0.7750088693568424</td>\n",
    "        <td>-15.468649828870536</td>\n",
    "        <td>0.761359716629135</td>\n",
    "        <td>-15.788500087340537</td>\n",
    "    </tr>\n",
    "    <tr>\n",
    "        <td>MLP</td>\n",
    "        <td>-</td>\n",
    "        <td>-36.954543994736646</td>\n",
    "        <td>0.8576887626967645</td>\n",
    "        <td>-15.835865325351062</td>\n",
    "    </tr>\n",
    "    <tr>\n",
    "        <td>Linear</td>\n",
    "        <td>-</td>\n",
    "        <td>-24.97029873372854</td>\n",
    "        <td>-</td>\n",
    "        <td>-18.545113291953776</td>\n",
    "    </tr>\n",
    "</table>\n",
    "\n",
    "<p style=\"color:rgb(67, 147, 250)\"> Best Model(MLP Without Elements) accuracy = 85.7%</p>"
   ]
  }
 ],
 "metadata": {
  "kernelspec": {
   "display_name": "Python 3.9.12 ('base')",
   "language": "python",
   "name": "python3"
  },
  "language_info": {
   "codemirror_mode": {
    "name": "ipython",
    "version": 3
   },
   "file_extension": ".py",
   "mimetype": "text/x-python",
   "name": "python",
   "nbconvert_exporter": "python",
   "pygments_lexer": "ipython3",
   "version": "3.9.12"
  },
  "orig_nbformat": 4,
  "vscode": {
   "interpreter": {
    "hash": "ad2bdc8ecc057115af97d19610ffacc2b4e99fae6737bb82f5d7fb13d2f2c186"
   }
  }
 },
 "nbformat": 4,
 "nbformat_minor": 2
}
